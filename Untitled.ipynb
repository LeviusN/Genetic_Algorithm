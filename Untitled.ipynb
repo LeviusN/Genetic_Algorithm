{
 "cells": [
  {
   "cell_type": "code",
   "execution_count": 195,
   "metadata": {},
   "outputs": [],
   "source": [
    "import numpy as np\n",
    "import math as mt\n",
    "import random"
   ]
  },
  {
   "cell_type": "code",
   "execution_count": 184,
   "metadata": {},
   "outputs": [],
   "source": [
    "Oldpop=np.array([[2,5,4,1],[2,5,1,4],[9,8,6,7],[1,4,3,7]])\n",
    "Fvpop=[5,2,8,3]\n",
    "Nums=[1,1,1]"
   ]
  },
  {
   "cell_type": "code",
   "execution_count": 185,
   "metadata": {},
   "outputs": [],
   "source": [
    "def position_sort(a):\n",
    "    id=sorted(range(len(a)), key=lambda k: a[k])\n",
    "    New=sorted(a)\n",
    "    return id,New"
   ]
  },
  {
   "cell_type": "code",
   "execution_count": 186,
   "metadata": {},
   "outputs": [
    {
     "name": "stdout",
     "output_type": "stream",
     "text": [
      "[[2. 5. 1. 4.]\n",
      " [1. 4. 3. 7.]\n",
      " [2. 5. 4. 1.]]\n",
      "[[2.]\n",
      " [3.]\n",
      " [5.]]\n"
     ]
    }
   ],
   "source": [
    "def selbest(Oldpop,Fvpop,Nums):\n",
    "    N=len(Nums)\n",
    "    id,fit=position(Fvpop)\n",
    "    Npop=np.ones([N,len(Oldpop[0,:])])\n",
    "     \n",
    "    num=0\n",
    "    for i in range(0,N):\n",
    "        num=num+Nums[i]\n",
    "        \n",
    "    Newpop=np.ones([num,len(Oldpop[0,:])])\n",
    "    Newfit=np.ones([num,1])\n",
    "    \n",
    "    for i in range(0,N):\n",
    "        Npop[i,:]=Oldpop[id[i],:]\n",
    "    Nfit=fit\n",
    "    \n",
    "    r=0\n",
    "    for i in range(0,N):\n",
    "        for j in range(0,Nums[i]):\n",
    "            Newpop[r,:]=Npop[i,:]\n",
    "            Newfit[r]=Nfit[i]\n",
    "            r=r+1\n",
    "    return (Newpop,Newfit)\n",
    "\n",
    "c,b=selbest(Oldpop,Fvpop,Nums)\n",
    "print(c)\n",
    "print(b)"
   ]
  },
  {
   "cell_type": "code",
   "execution_count": 234,
   "metadata": {},
   "outputs": [],
   "source": [
    "def selrand(Oldpop,Fvpop,Nums):\n",
    "    x,y=Oldpop.shape\n",
    "    Newpop=np.ones([Nums,len(Oldpop[0,:])])\n",
    "    Newfit=np.ones([Nums,1])  \n",
    "    \n",
    "    for i in range(0,Nums):\n",
    "        j=mt.ceil((x-1)*random.random())\n",
    "        Newpop[i,:]=Oldpop[j,:]\n",
    "        Newfit[i]=Fvpop[j]\n",
    "\n",
    "    \n",
    "    return (Newpop, Newfit)"
   ]
  },
  {
   "cell_type": "code",
   "execution_count": 235,
   "metadata": {},
   "outputs": [
    {
     "data": {
      "text/plain": [
       "(array([[1., 4., 3., 7.],\n",
       "        [9., 8., 6., 7.],\n",
       "        [9., 8., 6., 7.]]),\n",
       " array([[3.],\n",
       "        [8.],\n",
       "        [8.]]))"
      ]
     },
     "execution_count": 235,
     "metadata": {},
     "output_type": "execute_result"
    }
   ],
   "source": [
    "selbest(Oldpop,Fvpop,3)"
   ]
  },
  {
   "cell_type": "code",
   "execution_count": 324,
   "metadata": {},
   "outputs": [
    {
     "name": "stdout",
     "output_type": "stream",
     "text": [
      "[[2 5 4 1]\n",
      " [2 5 1 4]\n",
      " [9 8 6 7]\n",
      " [1 4 3 7]]\n",
      "[2 5]\n",
      "[4]\n",
      "[2 5 4]\n"
     ]
    }
   ],
   "source": [
    " x,y=Oldpop.shape\n",
    "flag=np.zeros([1,x]);\n",
    "j=mt.ceil((x-1)*random.random())\n",
    "flag[0,0]=1\n",
    "\n",
    "\n",
    "print(Oldpop)\n",
    "print(Oldpop[i,0:2])\n",
    "print(Oldpop[i,(2+1):y])\n",
    "t=np.concatenate((Oldpop[i,0:2],Oldpop[i,(2+1):y]))\n",
    "print(t)"
   ]
  },
  {
   "cell_type": "code",
   "execution_count": 332,
   "metadata": {},
   "outputs": [
    {
     "name": "stdout",
     "output_type": "stream",
     "text": [
      "[2 5 4]\n",
      "[9 8 6]\n",
      "[[2 5 4 1]\n",
      " [2 5 1 4]\n",
      " [9 8 6 7]\n",
      " [1 4 3 7]]\n",
      "[[2. 5. 1. 4.]\n",
      " [2. 5. 4. 1.]\n",
      " [9. 8. 3. 7.]\n",
      " [1. 4. 6. 7.]]\n"
     ]
    }
   ],
   "source": [
    "def crossov(Oldpop,pts):\n",
    "    x,y=Oldpop.shape\n",
    "    Newpop=np.ones([x,y])\n",
    "    flag=np.zeros([1,x]);   \n",
    "    num=mt.floor(x/2)\n",
    "    i=0\n",
    "    \n",
    "    for cyk in range(0,num):\n",
    "          \n",
    "        while flag[0,i]!=0:\n",
    "         i=i+1\n",
    "         \n",
    "\n",
    "        flag[0,i]=1\n",
    "        j=mt.ceil((x-1)*random.random())\n",
    "        while flag[0,j]!=0:\n",
    "          j=mt.ceil((x-1)*random.random())\n",
    "\n",
    "        flag[0,j]=2\n",
    "\n",
    "\n",
    "        if pts>4:\n",
    "            pts=4\n",
    "            \n",
    "        n=y*(1-(pts-1)*0.15)\n",
    "\n",
    "        p=mt.ceil(random.random()*n)\n",
    "        if p==y:\n",
    "            p=y-1\n",
    "        v=p\n",
    "\n",
    "        for k in range(0,(pts-1)):\n",
    "            h=ceil(random.random()*n)\n",
    "            if h==1:\n",
    "                h=2\n",
    "                \n",
    "            p=p+h;\n",
    "            if p>=y:\n",
    "                break\n",
    "                \n",
    "            v=[v,p]\n",
    "\n",
    "       \n",
    "        print(Oldpop[i,0:v])\n",
    "        Newpop[i,:]=np.concatenate((Oldpop[i,0:2],Oldpop[j,2:y]))\n",
    "        Newpop[j,:]=np.concatenate((Oldpop[j,0:2],Oldpop[i,2:y]))\n",
    "    \n",
    "    return Newpop\n",
    "    \n",
    "Newpop=crossov(Oldpop,1)\n",
    "print(Oldpop)\n",
    "print(Newpop)"
   ]
  },
  {
   "cell_type": "code",
   "execution_count": 422,
   "metadata": {},
   "outputs": [],
   "source": [
    "def muta(Oldpop,factor,Amps,Space):\n",
    "    x,y=Oldpop.shape\n",
    "    if factor>1:\n",
    "        factor=1\n",
    "    if factor<0:\n",
    "        factor=0\n",
    "\n",
    "    n=mt.ceil(x*y*factor*random.random())\n",
    "\n",
    "    Newpop=Oldpop;\n",
    "\n",
    "    for i in range(0,n):\n",
    "        r=mt.ceil(random.random()*(x-1))\n",
    "        s=mt.ceil(random.random()*(y-1))\n",
    "        Newpop[r,s]=Oldpop[r,s]+(2*random.random()-1)*Space1[0,s]\n",
    "        if Newpop[r,s]<Space[0,s]:\n",
    "            Newpop[r,s]=Space[0,s]\n",
    "        if Newpop[r,s]>Space[1,s]:\n",
    "            Newpop[r,s]=Space[1,s]\n",
    "    return Newpop\n",
    "\n",
    "\n",
    "Space1=np.ones([1,10])*(100)\n",
    "def spaceGenerator(lowB,upB,gen):\n",
    "    low=np.ones((1,gen))*lowB\n",
    "    up=np.ones((1,gen))*upB\n",
    "    Space=np.ones((2,10))\n",
    "\n",
    "    Space[0,:]=low\n",
    "    Space[1,:]=up\n",
    "    \n",
    "    return Space\n",
    "Space=spaceGenerator(-500,500,10)"
   ]
  },
  {
   "cell_type": "code",
   "execution_count": 423,
   "metadata": {},
   "outputs": [
    {
     "data": {
      "text/plain": [
       "array([[   2,    5,    4,    1],\n",
       "       [   2,    5,    1, -116],\n",
       "       [   9,    8,    6, -147],\n",
       "       [   1,    4,  -86,   29]])"
      ]
     },
     "execution_count": 423,
     "metadata": {},
     "output_type": "execute_result"
    }
   ],
   "source": [
    "muta(Oldpop,0.1,Space1,Space)"
   ]
  },
  {
   "cell_type": "code",
   "execution_count": null,
   "metadata": {},
   "outputs": [],
   "source": []
  }
 ],
 "metadata": {
  "kernelspec": {
   "display_name": "Python 3",
   "language": "python",
   "name": "python3"
  },
  "language_info": {
   "codemirror_mode": {
    "name": "ipython",
    "version": 3
   },
   "file_extension": ".py",
   "mimetype": "text/x-python",
   "name": "python",
   "nbconvert_exporter": "python",
   "pygments_lexer": "ipython3",
   "version": "3.8.5"
  }
 },
 "nbformat": 4,
 "nbformat_minor": 4
}
