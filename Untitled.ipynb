{
 "cells": [
  {
   "cell_type": "code",
   "execution_count": 10,
   "metadata": {},
   "outputs": [],
   "source": [
    "import numpy as np\n",
    "import math as mt\n",
    "import random"
   ]
  },
  {
   "cell_type": "code",
   "execution_count": 11,
   "metadata": {},
   "outputs": [],
   "source": [
    "Oldpop=np.array([[2,5,4,1],[2,5,1,4],[9,8,6,7],[1,4,3,7]])\n",
    "Fvpop=[5,2,8,3]\n",
    "Nums=[1,1,1]"
   ]
  },
  {
   "cell_type": "code",
   "execution_count": 12,
   "metadata": {},
   "outputs": [],
   "source": [
    "def position_sort(a):\n",
    "    id=sorted(range(len(a)), key=lambda k: a[k])\n",
    "    New=sorted(a)\n",
    "    return id,New"
   ]
  },
  {
   "cell_type": "code",
   "execution_count": 13,
   "metadata": {},
   "outputs": [
    {
     "name": "stdout",
     "output_type": "stream",
     "text": [
      "[[2. 5. 1. 4.]\n",
      " [1. 4. 3. 7.]\n",
      " [2. 5. 4. 1.]]\n",
      "[[2.]\n",
      " [3.]\n",
      " [5.]]\n"
     ]
    }
   ],
   "source": [
    "def selbest(Oldpop,Fvpop,Nums):\n",
    "    N=len(Nums)\n",
    "    id,fit=position_sort(Fvpop)\n",
    "    Npop=np.ones([N,len(Oldpop[0,:])])\n",
    "     \n",
    "    num=0\n",
    "    for i in range(0,N):\n",
    "        num=num+Nums[i]\n",
    "        \n",
    "    Newpop=np.ones([num,len(Oldpop[0,:])])\n",
    "    Newfit=np.ones([num,1])\n",
    "    \n",
    "    for i in range(0,N):\n",
    "        Npop[i,:]=Oldpop[id[i],:]\n",
    "    Nfit=fit\n",
    "    \n",
    "    r=0\n",
    "    for i in range(0,N):\n",
    "        for j in range(0,Nums[i]):\n",
    "            Newpop[r,:]=Npop[i,:]\n",
    "            Newfit[r]=Nfit[i]\n",
    "            r=r+1\n",
    "    return (Newpop,Newfit)\n",
    "\n",
    "c,b=selbest(Oldpop,Fvpop,Nums)\n",
    "print(c)\n",
    "print(b)"
   ]
  },
  {
   "cell_type": "code",
   "execution_count": 14,
   "metadata": {},
   "outputs": [],
   "source": [
    "def selrand(Oldpop,Fvpop,Nums):\n",
    "    x,y=Oldpop.shape\n",
    "    Newpop=np.ones([Nums,len(Oldpop[0,:])])\n",
    "    Newfit=np.ones([Nums,1])  \n",
    "    \n",
    "    for i in range(0,Nums):\n",
    "        j=mt.ceil((x-1)*random.random())\n",
    "        Newpop[i,:]=Oldpop[j,:]\n",
    "        Newfit[i]=Fvpop[j]\n",
    "\n",
    "    \n",
    "    return (Newpop, Newfit)"
   ]
  },
  {
   "cell_type": "code",
   "execution_count": 15,
   "metadata": {},
   "outputs": [
    {
     "data": {
      "text/plain": [
       "(array([[1., 4., 3., 7.],\n",
       "        [1., 4., 3., 7.],\n",
       "        [9., 8., 6., 7.]]),\n",
       " array([[3.],\n",
       "        [3.],\n",
       "        [8.]]))"
      ]
     },
     "execution_count": 15,
     "metadata": {},
     "output_type": "execute_result"
    }
   ],
   "source": [
    "selrand(Oldpop,Fvpop,3)"
   ]
  },
  {
   "cell_type": "code",
   "execution_count": 16,
   "metadata": {},
   "outputs": [
    {
     "name": "stdout",
     "output_type": "stream",
     "text": [
      "[2 5 4]\n",
      "[9]\n",
      "[[2 5 4 1]\n",
      " [2 5 1 4]\n",
      " [9 8 6 7]\n",
      " [1 4 3 7]]\n",
      "[[2. 5. 1. 4.]\n",
      " [2. 5. 4. 1.]\n",
      " [9. 8. 3. 7.]\n",
      " [1. 4. 6. 7.]]\n"
     ]
    }
   ],
   "source": [
    "def crossov(Oldpop,pts):\n",
    "    x,y=Oldpop.shape\n",
    "    Newpop=np.ones([x,y])\n",
    "    flag=np.zeros([1,x]);   \n",
    "    num=mt.floor(x/2)\n",
    "    i=0\n",
    "    \n",
    "    for cyk in range(0,num):\n",
    "          \n",
    "        while flag[0,i]!=0:\n",
    "         i=i+1\n",
    "         \n",
    "\n",
    "        flag[0,i]=1\n",
    "        j=mt.ceil((x-1)*random.random())\n",
    "        while flag[0,j]!=0:\n",
    "          j=mt.ceil((x-1)*random.random())\n",
    "\n",
    "        flag[0,j]=2\n",
    "\n",
    "\n",
    "        if pts>4:\n",
    "            pts=4\n",
    "            \n",
    "        n=y*(1-(pts-1)*0.15)\n",
    "\n",
    "        p=mt.ceil(random.random()*n)\n",
    "        if p==y:\n",
    "            p=y-1\n",
    "        v=p\n",
    "\n",
    "        for k in range(0,(pts-1)):\n",
    "            h=ceil(random.random()*n)\n",
    "            if h==1:\n",
    "                h=2\n",
    "                \n",
    "            p=p+h;\n",
    "            if p>=y:\n",
    "                break\n",
    "                \n",
    "            v=[v,p]\n",
    "\n",
    "       \n",
    "        print(Oldpop[i,0:v])\n",
    "        Newpop[i,:]=np.concatenate((Oldpop[i,0:2],Oldpop[j,2:y]))\n",
    "        Newpop[j,:]=np.concatenate((Oldpop[j,0:2],Oldpop[i,2:y]))\n",
    "    \n",
    "    return Newpop\n",
    "    \n",
    "Newpop=crossov(Oldpop,1)\n",
    "print(Oldpop)\n",
    "print(Newpop)"
   ]
  },
  {
   "cell_type": "code",
   "execution_count": 17,
   "metadata": {},
   "outputs": [],
   "source": [
    "def muta(Oldpop,factor,Amps,Space):\n",
    "    x,y=Oldpop.shape\n",
    "    if factor>1:\n",
    "        factor=1\n",
    "    if factor<0:\n",
    "        factor=0\n",
    "\n",
    "    n=mt.ceil(x*y*factor*random.random())\n",
    "\n",
    "    Newpop=Oldpop;\n",
    "\n",
    "    for i in range(0,n):\n",
    "        r=mt.ceil(random.random()*(x-1))\n",
    "        s=mt.ceil(random.random()*(y-1))\n",
    "        Newpop[r,s]=Oldpop[r,s]+(2*random.random()-1)*Space1[0,s]\n",
    "        if Newpop[r,s]<Space[0,s]:\n",
    "            Newpop[r,s]=Space[0,s]\n",
    "        if Newpop[r,s]>Space[1,s]:\n",
    "            Newpop[r,s]=Space[1,s]\n",
    "    return Newpop\n",
    "\n",
    "\n",
    "Space1=np.ones([1,10])*(100)\n",
    "def spaceGenerator(lowB,upB,gen):\n",
    "    low=np.ones((1,gen))*lowB\n",
    "    up=np.ones((1,gen))*upB\n",
    "    Space=np.ones((2,10))\n",
    "\n",
    "    Space[0,:]=low\n",
    "    Space[1,:]=up\n",
    "    \n",
    "    return Space\n",
    "Space=spaceGenerator(-500,500,10)"
   ]
  },
  {
   "cell_type": "code",
   "execution_count": 18,
   "metadata": {},
   "outputs": [
    {
     "data": {
      "text/plain": [
       "array([[  2,   5,   4,   1],\n",
       "       [  2,   5,   1,   4],\n",
       "       [  9, -10,   6,   7],\n",
       "       [  1,   4,   3,   7]])"
      ]
     },
     "execution_count": 18,
     "metadata": {},
     "output_type": "execute_result"
    }
   ],
   "source": [
    "muta(Oldpop,0.1,Space1,Space)"
   ]
  },
  {
   "cell_type": "code",
   "execution_count": 26,
   "metadata": {},
   "outputs": [],
   "source": [
    "def mutx(Oldpop,factor,Space):\n",
    "    x,y=Oldpop.shape\n",
    "    if factor>1:\n",
    "        factor=1\n",
    "    if factor<0:\n",
    "        factor=0\n",
    "\n",
    "    n=mt.ceil(x*y*factor*random.random())\n",
    "\n",
    "    Newpop=Oldpop;\n",
    "\n",
    "    for i in range(0,n):\n",
    "        r=mt.ceil(random.random()*(x-1))\n",
    "        s=mt.ceil(random.random()*(y-1))\n",
    "        d=Space[1,s]-Space[0,s]\n",
    "        Newpop[r,s]=random.random()*d+Space[0,s]\n",
    "        if Newpop[r,s]<Space[0,s]:\n",
    "            Newpop[r,s]=Space[0,s]\n",
    "        if Newpop[r,s]>Space[1,s]:\n",
    "            Newpop[r,s]=Space[1,s]\n",
    "    return Newpop"
   ]
  },
  {
   "cell_type": "code",
   "execution_count": 27,
   "metadata": {},
   "outputs": [
    {
     "data": {
      "text/plain": [
       "array([[ 500,  500,  500,  500],\n",
       "       [   2,  341,    1,    4],\n",
       "       [   9,  -10,    6,    7],\n",
       "       [   1,    4,    3, -189]])"
      ]
     },
     "execution_count": 27,
     "metadata": {},
     "output_type": "execute_result"
    }
   ],
   "source": [
    "mutx(Oldpop,0.1,Space)"
   ]
  },
  {
   "cell_type": "code",
   "execution_count": 40,
   "metadata": {},
   "outputs": [],
   "source": [
    "def genpop(popsize,Space):\n",
    "    x,y=Space.shape\n",
    "\n",
    "    Newpop=np.ones([popsize,y]);\n",
    "    for r in range(0,popsize):\n",
    "        for s in range(0,y):\n",
    "\n",
    "         \n",
    "            d=Space[1,s]-Space[0,s]\n",
    "            Newpop[r,s]=random.random()*d+Space[0,s]\n",
    "            if Newpop[r,s]<Space[0,s]:\n",
    "                Newpop[r,s]=Space[0,s]\n",
    "            if Newpop[r,s]>Space[1,s]:\n",
    "                Newpop[r,s]=Space[1,s]\n",
    "    return Newpop"
   ]
  },
  {
   "cell_type": "code",
   "execution_count": 42,
   "metadata": {},
   "outputs": [
    {
     "name": "stdout",
     "output_type": "stream",
     "text": [
      "[[-487.93819901 -191.21098521 -114.1037099  -231.56215187   48.15057936\n",
      "  -110.26220599 -361.75372057  291.68614265 -287.52614418  490.55756849]\n",
      " [-487.33455028  179.47609294 -496.90472609  471.60904998  310.58417094\n",
      "  -435.71588306  221.5629073  -477.23435819  442.08588376 -350.8458485 ]\n",
      " [-398.12827981 -158.37334719   82.42265928 -434.82305317 -408.78645475\n",
      "    78.89020808 -304.88970265  251.52180042 -248.28869187 -264.58225323]\n",
      " [-156.35651732 -385.10215572 -122.81223602 -463.46842145 -248.56801699\n",
      "   464.07824149   90.36874489 -328.45919451  -31.13657789   57.2872843 ]\n",
      " [ 420.91142552  388.45337741  429.66003165 -236.13949179 -104.91354695\n",
      "   413.15943811  479.54782447 -160.31058192  329.74881656  190.57459041]\n",
      " [  65.08132486  324.49108694 -247.01743866   42.88395082  469.74387196\n",
      "  -215.97902879  163.31032175  -25.57022346 -158.43179473  302.17837785]\n",
      " [ -14.55614363 -277.61413129  263.55714336 -266.01624    -438.38741148\n",
      "   300.18373488  352.20579028  256.54441467  434.33196578  495.05028787]\n",
      " [ 428.93494796  457.07669525 -310.3342786  -395.39979598 -234.92123557\n",
      "  -309.27643722  -87.32900747 -111.46389591  378.25137836 -417.07085239]\n",
      " [ 154.72049575 -333.94251247  126.54714828 -180.03340504  434.80848683\n",
      "   407.42322359 -470.16520868 -196.29929572  -43.50252016  113.90571424]\n",
      " [ -60.93881345 -344.42822749 -453.6389457  -265.85325391   48.06196715\n",
      "    39.56092546  443.81752303   21.78605515   79.96480691 -393.40563764]]\n",
      "-247.01743865701343\n"
     ]
    }
   ],
   "source": [
    "genpop(10,Space)"
   ]
  },
  {
   "cell_type": "code",
   "execution_count": null,
   "metadata": {},
   "outputs": [],
   "source": []
  }
 ],
 "metadata": {
  "kernelspec": {
   "display_name": "Python 3",
   "language": "python",
   "name": "python3"
  },
  "language_info": {
   "codemirror_mode": {
    "name": "ipython",
    "version": 3
   },
   "file_extension": ".py",
   "mimetype": "text/x-python",
   "name": "python",
   "nbconvert_exporter": "python",
   "pygments_lexer": "ipython3",
   "version": "3.8.5"
  }
 },
 "nbformat": 4,
 "nbformat_minor": 4
}
